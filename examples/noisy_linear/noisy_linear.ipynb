{
 "cells": [
  {
   "cell_type": "code",
   "execution_count": 1,
   "metadata": {
    "execution": {
     "iopub.execute_input": "2021-09-02T14:36:51.818740Z",
     "iopub.status.busy": "2021-09-02T14:36:51.818057Z",
     "iopub.status.idle": "2021-09-02T14:36:51.820974Z",
     "shell.execute_reply": "2021-09-02T14:36:51.821392Z"
    },
    "lines_to_next_cell": 0
   },
   "outputs": [],
   "source": [
    "# isort:skip_file"
   ]
  },
  {
   "cell_type": "markdown",
   "metadata": {
    "cell_marker": "\"\"\""
   },
   "source": [
    "# Treeo\n",
    "\n",
    "**Main features**:\n",
    "* Modules contain their parameters\n",
    "* Easy transfer learning\n",
    "* Simple initialization\n",
    "* No metaclass magic\n",
    "* No apply method\n",
    "* No need special versions of `vmap`, `jit`, and friends.\n",
    "\n",
    "We will showcase each of the above features by creating a very contrived but complete module that will use everything from parameters, states, and random states:"
   ]
  },
  {
   "cell_type": "code",
   "execution_count": 2,
   "metadata": {
    "execution": {
     "iopub.execute_input": "2021-09-02T14:36:51.836492Z",
     "iopub.status.busy": "2021-09-02T14:36:51.835885Z",
     "iopub.status.idle": "2021-09-02T14:36:52.935262Z",
     "shell.execute_reply": "2021-09-02T14:36:52.936156Z"
    }
   },
   "outputs": [
    {
     "data": {
      "text/html": [
       "<pre style=\"white-space:pre;overflow-x:auto;line-height:normal;font-family:Menlo,'DejaVu Sans Mono',consolas,'Courier New',monospace\">NoisyLinear:\n",
       "  w: Initializer\n",
       "  b: Initializer\n",
       "  rng: Initializer\n",
       "</pre>\n"
      ],
      "text/plain": [
       "NoisyLinear:\n",
       "  w: Initializer\n",
       "  b: Initializer\n",
       "  rng: Initializer\n"
      ]
     },
     "metadata": {},
     "output_type": "display_data"
    },
    {
     "name": "stdout",
     "output_type": "stream",
     "text": [
      "\n"
     ]
    }
   ],
   "source": [
    "from typing import Tuple\n",
    "\n",
    "import jax.numpy as jnp\n",
    "import numpy as np\n",
    "\n",
    "import treex as tx\n",
    "\n",
    "\n",
    "class NoisyLinear(tx.Module):\n",
    "    # tree parts are defined by treex annotations\n",
    "    w: tx.Parameter\n",
    "    b: tx.Parameter\n",
    "    rng: tx.Rng  # tx.Rng inherits from tx.State\n",
    "\n",
    "    # other annotations are possible but ignored by type\n",
    "    name: str\n",
    "\n",
    "    def __init__(self, din, dout):\n",
    "        super().__init__()\n",
    "        # Initializers only expect RNG key\n",
    "        self.w = tx.Initializer(lambda k: jax.random.uniform(k, shape=(din, dout)))\n",
    "        self.b = tx.Initializer(lambda k: jax.random.uniform(k, shape=(dout,)))\n",
    "\n",
    "        # random state is JUST state, we can keep it locally\n",
    "        self.rng = tx.Initializer(lambda k: k)\n",
    "\n",
    "    def __call__(self, x: np.ndarray) -> np.ndarray:\n",
    "        assert isinstance(self.rng, jnp.ndarray)\n",
    "\n",
    "        # update state in place\n",
    "        key, self.rng = jax.random.split(self.rng, 2)\n",
    "\n",
    "        # your typical linear operation\n",
    "        y = jnp.dot(x, self.w) + self.b\n",
    "\n",
    "        # add noise for fun\n",
    "        return y + 0.8 * jax.random.normal(key, shape=y.shape)\n",
    "\n",
    "\n",
    "model = NoisyLinear(1, 1)\n",
    "\n",
    "print(model)"
   ]
  },
  {
   "cell_type": "markdown",
   "metadata": {
    "cell_marker": "\"\"\""
   },
   "source": [
    "Initialization is straightforward. The only thing you need to do is to call `init` on your module with a random key:"
   ]
  },
  {
   "cell_type": "code",
   "execution_count": 3,
   "metadata": {
    "execution": {
     "iopub.execute_input": "2021-09-02T14:36:52.942242Z",
     "iopub.status.busy": "2021-09-02T14:36:52.941298Z",
     "iopub.status.idle": "2021-09-02T14:36:53.420735Z",
     "shell.execute_reply": "2021-09-02T14:36:53.421182Z"
    },
    "lines_to_next_cell": 2
   },
   "outputs": [
    {
     "name": "stderr",
     "output_type": "stream",
     "text": [
      "WARNING:absl:No GPU/TPU found, falling back to CPU. (Set TF_CPP_MIN_LOG_LEVEL=0 and rerun for more info.)\n"
     ]
    },
    {
     "data": {
      "text/html": [
       "<pre style=\"white-space:pre;overflow-x:auto;line-height:normal;font-family:Menlo,'DejaVu Sans Mono',consolas,'Courier New',monospace\">NoisyLinear:\n",
       "  b: Parameter(<span style=\"color: #008000; text-decoration-color: #008000\">1</span>) <span style=\"color: #7f7f7f; text-decoration-color: #7f7f7f\">float32</span>\n",
       "  rng: Rng(<span style=\"color: #008000; text-decoration-color: #008000\">2</span>) <span style=\"color: #7f7f7f; text-decoration-color: #7f7f7f\">uint32</span>\n",
       "  w: Parameter(<span style=\"color: #008000; text-decoration-color: #008000\">1, 1</span>) <span style=\"color: #7f7f7f; text-decoration-color: #7f7f7f\">float32</span>\n",
       "</pre>\n"
      ],
      "text/plain": [
       "NoisyLinear:\n",
       "  b: Parameter(\u001b[32m1\u001b[0m) \u001b[2mfloat32\u001b[0m\n",
       "  rng: Rng(\u001b[32m2\u001b[0m) \u001b[2muint32\u001b[0m\n",
       "  w: Parameter(\u001b[32m1, 1\u001b[0m) \u001b[2mfloat32\u001b[0m\n"
      ]
     },
     "metadata": {},
     "output_type": "display_data"
    },
    {
     "name": "stdout",
     "output_type": "stream",
     "text": [
      "\n"
     ]
    }
   ],
   "source": [
    "import jax\n",
    "\n",
    "model = model.init(key=42)\n",
    "print(model)"
   ]
  },
  {
   "cell_type": "markdown",
   "metadata": {
    "cell_marker": "\"\"\""
   },
   "source": [
    "Now we will be reusing the previous NoisyLinear model, and we will create an optax optimizer that is used to train the model:"
   ]
  },
  {
   "cell_type": "code",
   "execution_count": 4,
   "metadata": {
    "execution": {
     "iopub.execute_input": "2021-09-02T14:36:53.429147Z",
     "iopub.status.busy": "2021-09-02T14:36:53.428203Z",
     "iopub.status.idle": "2021-09-02T14:36:53.472970Z",
     "shell.execute_reply": "2021-09-02T14:36:53.472386Z"
    }
   },
   "outputs": [
    {
     "data": {
      "text/html": [
       "<pre style=\"white-space:pre;overflow-x:auto;line-height:normal;font-family:Menlo,'DejaVu Sans Mono',consolas,'Courier New',monospace\">NoisyLinear:\n",
       "  b: Parameter(<span style=\"color: #008000; text-decoration-color: #008000\">1</span>) <span style=\"color: #7f7f7f; text-decoration-color: #7f7f7f\">float32</span>\n",
       "  rng: Nothing\n",
       "  w: Parameter(<span style=\"color: #008000; text-decoration-color: #008000\">1, 1</span>) <span style=\"color: #7f7f7f; text-decoration-color: #7f7f7f\">float32</span>\n",
       "</pre>\n"
      ],
      "text/plain": [
       "NoisyLinear:\n",
       "  b: Parameter(\u001b[32m1\u001b[0m) \u001b[2mfloat32\u001b[0m\n",
       "  rng: Nothing\n",
       "  w: Parameter(\u001b[32m1, 1\u001b[0m) \u001b[2mfloat32\u001b[0m\n"
      ]
     },
     "metadata": {},
     "output_type": "display_data"
    },
    {
     "name": "stdout",
     "output_type": "stream",
     "text": [
      "params=\n"
     ]
    }
   ],
   "source": [
    "import optax\n",
    "\n",
    "optimizer = tx.Optimizer(optax.adam(1e-2))\n",
    "\n",
    "params = model.filter(tx.Parameter)\n",
    "optimizer = optimizer.init(params)\n",
    "\n",
    "print(f\"{params=}\")"
   ]
  },
  {
   "cell_type": "markdown",
   "metadata": {
    "cell_marker": "\"\"\"",
    "lines_to_next_cell": 0
   },
   "source": [
    "Notice that we are already splitting the model into `params` and `states` since we only need to pass the `params` to the optimizer. Next, we will create the loss function, it will take the model parts and the data parts and return the loss plus the new states:"
   ]
  },
  {
   "cell_type": "code",
   "execution_count": 5,
   "metadata": {
    "execution": {
     "iopub.execute_input": "2021-09-02T14:36:53.478782Z",
     "iopub.status.busy": "2021-09-02T14:36:53.478056Z",
     "iopub.status.idle": "2021-09-02T14:36:53.481037Z",
     "shell.execute_reply": "2021-09-02T14:36:53.481500Z"
    }
   },
   "outputs": [],
   "source": [
    "from functools import partial\n",
    "\n",
    "\n",
    "@partial(jax.value_and_grad, has_aux=True)\n",
    "def loss_fn(params: NoisyLinear, model: NoisyLinear, x, y):\n",
    "    # update params into model\n",
    "    model = model.update(params)\n",
    "    # apply model\n",
    "    pred_y = model(x)\n",
    "    # MSE loss\n",
    "    loss = jnp.mean((y - pred_y) ** 2)\n",
    "    # return model with state updates\n",
    "    return loss, model"
   ]
  },
  {
   "cell_type": "markdown",
   "metadata": {
    "cell_marker": "\"\"\"",
    "lines_to_next_cell": 1
   },
   "source": [
    "Notice that we are merging the `params` and `states` into the complete model since we need everything in place to perform the forward pass. Also, we return the updated states from the model. The above steps are required because JAX functional API requires us to be explicit about state management.\n",
    "\n",
    "**Note**: inside `loss_fn` (wrapped by `value_and_grad`) module can behave like a regular mutable Python object. However, every time it is treated as a pytree a new reference will be created in `jit`, `grad`, `vmap`, etc. It is essential to consider this when using functions like `vmap` inside a module, as JAX will need specific bookkeeping to manage the state correctly.\n",
    "\n",
    "Next, we will implement the `update` function, it will look indistinguishable from your standard Haiku update, which also separates weights into `params` and `states`: "
   ]
  },
  {
   "cell_type": "code",
   "execution_count": 6,
   "metadata": {
    "execution": {
     "iopub.execute_input": "2021-09-02T14:36:53.487428Z",
     "iopub.status.busy": "2021-09-02T14:36:53.486813Z",
     "iopub.status.idle": "2021-09-02T14:36:53.489704Z",
     "shell.execute_reply": "2021-09-02T14:36:53.489202Z"
    }
   },
   "outputs": [],
   "source": [
    "@jax.jit\n",
    "def train_step(model: NoisyLinear, optimizer: tx.Optimizer, x, y):\n",
    "    # select Parameters\n",
    "    params = model.filter(tx.Parameter)\n",
    "\n",
    "    # call loss_fn to get loss, model state, and gradients\n",
    "    (loss, model), grads = loss_fn(params, model, x, y)\n",
    "\n",
    "    # apply optax update\n",
    "    new_params = optimizer.apply_updates(grads, params)\n",
    "\n",
    "    # update new_params\n",
    "    model = model.update(new_params)\n",
    "\n",
    "    return model, optimizer, loss"
   ]
  },
  {
   "cell_type": "markdown",
   "metadata": {
    "cell_marker": "\"\"\""
   },
   "source": [
    "Before we start training lets get some data:"
   ]
  },
  {
   "cell_type": "code",
   "execution_count": 7,
   "metadata": {
    "execution": {
     "iopub.execute_input": "2021-09-02T14:36:53.500632Z",
     "iopub.status.busy": "2021-09-02T14:36:53.499778Z",
     "iopub.status.idle": "2021-09-02T14:36:54.012071Z",
     "shell.execute_reply": "2021-09-02T14:36:54.012785Z"
    },
    "lines_to_next_cell": 2
   },
   "outputs": [
    {
     "data": {
      "image/png": "[encoded data removed]",
      "text/plain": [
       "<Figure size 432x288 with 1 Axes>"
      ]
     },
     "metadata": {
      "needs_background": "light"
     },
     "output_type": "display_data"
    }
   ],
   "source": [
    "import matplotlib.pyplot as plt\n",
    "import numpy as np\n",
    "\n",
    "np.random.seed(0)\n",
    "\n",
    "\n",
    "def get_data(dataset_size: int) -> Tuple[np.ndarray, np.ndarray]:\n",
    "    x = np.random.normal(size=(dataset_size, 1))\n",
    "    y = 5 * x - 2 + 0.4 * np.random.normal(size=(dataset_size, 1))\n",
    "    return x, y\n",
    "\n",
    "\n",
    "def get_batch(\n",
    "    data: Tuple[np.ndarray, np.ndarray], batch_size: int\n",
    ") -> Tuple[np.ndarray, np.ndarray]:\n",
    "    idx = np.random.choice(len(data[0]), batch_size)\n",
    "    return jax.tree_map(lambda x: x[idx], data)\n",
    "\n",
    "\n",
    "data = get_data(1000)\n",
    "\n",
    "plt.scatter(data[0], data[1])\n",
    "plt.show()"
   ]
  },
  {
   "cell_type": "markdown",
   "metadata": {
    "cell_marker": "\"\"\""
   },
   "source": [
    "Finally, we create a simple training loop that performs a few thousand updates and update `params` and `states` back into a single `model` at the end:"
   ]
  },
  {
   "cell_type": "code",
   "execution_count": 8,
   "metadata": {
    "execution": {
     "iopub.execute_input": "2021-09-02T14:36:54.058541Z",
     "iopub.status.busy": "2021-09-02T14:36:54.057582Z",
     "iopub.status.idle": "2021-09-02T14:36:56.859902Z",
     "shell.execute_reply": "2021-09-02T14:36:56.860864Z"
    }
   },
   "outputs": [
    {
     "name": "stdout",
     "output_type": "stream",
     "text": [
      "[0] loss = 26.22455596923828\n"
     ]
    },
    {
     "name": "stdout",
     "output_type": "stream",
     "text": [
      "[1000] loss = 0.6395998597145081\n"
     ]
    },
    {
     "name": "stdout",
     "output_type": "stream",
     "text": [
      "[2000] loss = 0.572036862373352\n",
      "[3000] loss = 0.6482484340667725\n"
     ]
    },
    {
     "name": "stdout",
     "output_type": "stream",
     "text": [
      "[4000] loss = 0.5455958843231201\n"
     ]
    },
    {
     "name": "stdout",
     "output_type": "stream",
     "text": [
      "[5000] loss = 0.6134263277053833\n"
     ]
    },
    {
     "name": "stdout",
     "output_type": "stream",
     "text": [
      "[6000] loss = 0.6572529077529907\n",
      "[7000] loss = 0.4845159947872162\n"
     ]
    },
    {
     "name": "stdout",
     "output_type": "stream",
     "text": [
      "[8000] loss = 0.8104808330535889\n"
     ]
    },
    {
     "name": "stdout",
     "output_type": "stream",
     "text": [
      "[9000] loss = 0.995280385017395\n"
     ]
    }
   ],
   "source": [
    "steps = 10_000\n",
    "\n",
    "for step in range(steps):\n",
    "    x, y = get_batch(data, batch_size=32)\n",
    "\n",
    "    model, optimizer, loss = train_step(model, optimizer, x, y)\n",
    "\n",
    "    if step % 1000 == 0:\n",
    "        print(f\"[{step}] loss = {loss}\")"
   ]
  },
  {
   "cell_type": "markdown",
   "metadata": {
    "cell_marker": "\"\"\""
   },
   "source": [
    "Now lets generate some test data and see how our model performed:"
   ]
  },
  {
   "cell_type": "code",
   "execution_count": 9,
   "metadata": {
    "execution": {
     "iopub.execute_input": "2021-09-02T14:36:56.873437Z",
     "iopub.status.busy": "2021-09-02T14:36:56.868772Z",
     "iopub.status.idle": "2021-09-02T14:36:57.850797Z",
     "shell.execute_reply": "2021-09-02T14:36:57.851204Z"
    }
   },
   "outputs": [
    {
     "data": {
      "image/png": "[encoded data removed]",
      "text/plain": [
       "<Figure size 432x288 with 1 Axes>"
      ]
     },
     "metadata": {
      "needs_background": "light"
     },
     "output_type": "display_data"
    }
   ],
   "source": [
    "import matplotlib.pyplot as plt\n",
    "\n",
    "X_test = np.linspace(data[0].min(), data[0].max(), 100)[:, None]\n",
    "y_pred = model(X_test)\n",
    "\n",
    "plt.scatter(data[0], data[1], label=\"data\", color=\"k\")\n",
    "plt.plot(X_test, y_pred, label=\"prediction\")\n",
    "plt.legend()\n",
    "plt.show()"
   ]
  },
  {
   "cell_type": "markdown",
   "metadata": {
    "cell_marker": "\"\"\""
   },
   "source": [
    "We can see that the model has learned the general trend, but because of the `NoisyLinear` modules we have a bit of noise in the predictions."
   ]
  }
 ],
 "metadata": {
  "interpreter": {
   "hash": "a0f3d5a3883d8636fe87fe002a5fbfda4d626248072973d7503d976a08fb4ac9"
  },
  "jupytext": {
   "cell_metadata_filter": "-all"
  },
  "kernelspec": {
   "display_name": "Python 3.8.1 64-bit ('.venv': poetry)",
   "name": "python3"
  },
  "language_info": {
   "name": "python",
   "version": ""
  }
 },
 "nbformat": 4,
 "nbformat_minor": 5
}